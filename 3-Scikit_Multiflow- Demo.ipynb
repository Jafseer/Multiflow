{
 "cells": [
  {
   "cell_type": "markdown",
   "metadata": {},
   "source": [
    "# Incremental (Online) Learning with Scikit-Multiflow "
   ]
  },
  {
   "cell_type": "markdown",
   "metadata": {},
   "source": [
    "With seemingly infinite streams of data, one of the key challenges is to create lightweight models that are always ready to predict and adaptive to changes in the data distribution."
   ]
  },
  {
   "cell_type": "markdown",
   "metadata": {},
   "source": [
    "### What is Incremental Learning?\n",
    "At every iteration, the model predicts a class label, reveals the true label, and is then updated\n",
    "\n",
    "Incremental learning refers to a family of scalable algorithms that learn to sequentially update models from infinite data streams.\n",
    "\n",
    "An incremental model has the following characteristics:\n",
    "\n",
    "It can **predict at any time**\n",
    "\n",
    "It can **adapt to concept drift** — i.e. changes in the data distribution\n",
    "\n",
    "It is able to process an *infinite data stream with finite resources* (**time and memory**)\n",
    "\n",
    "**Scikit-Multiflow **- a free Python framework for data-stream learning."
   ]
  },
  {
   "cell_type": "markdown",
   "metadata": {},
   "source": [
    "### Simple Online Classifier\n",
    "There are many incremental models available with scikit-multiflow, one of the most popular being Hoeffding Trees"
   ]
  },
  {
   "cell_type": "markdown",
   "metadata": {},
   "source": [
    "#### Hoeffding Trees\n",
    "Hoeffding trees are built using the Very Fast Decision Tree Learner (VFDT), an anytime system that builds decision trees using constant memory and constant time per example. Introduced in 2000 by Pedro Domingos and Geoff Hulten, it makes use of a well known statistical result, the Hoeffding bound, in order to guarantee that its output is asymptotically identical to that of a traditional learner."
   ]
  },
  {
   "cell_type": "code",
   "execution_count": 4,
   "metadata": {},
   "outputs": [],
   "source": [
    "from skmultiflow.trees import HoeffdingTreeClassifier\n",
    "\n",
    "tree = HoeffdingTreeClassifier()"
   ]
  },
  {
   "cell_type": "code",
   "execution_count": 1,
   "metadata": {},
   "outputs": [],
   "source": [
    "from skmultiflow.data import SEAGenerator \n",
    "\n",
    "stream = SEAGenerator()      # create a stream\n",
    "stream.prepare_for_use()     # prepare the stream for use"
   ]
  },
  {
   "cell_type": "markdown",
   "metadata": {},
   "source": [
    "#### Training a Hoeffding Tree for Classification\n",
    "If we want to train the tree on the SEA data stream, we can just loop through however many data points we want."
   ]
  },
  {
   "cell_type": "code",
   "execution_count": 5,
   "metadata": {},
   "outputs": [],
   "source": [
    "correctness_dist = []\n",
    "nb_iters = 2000\n",
    "for i in range(nb_iters):\n",
    "   X, Y = stream.next_sample()        # get the next sample\n",
    "   prediction = tree.predict(X)       # predict Y using the tree     \n",
    "   if Y == prediction:                # check the prediction\n",
    "     correctness_dist.append(1)\n",
    "   else:\n",
    "     correctness_dist.append(0)   \n",
    "   \n",
    "   tree.partial_fit(X, Y)             # update the tree"
   ]
  },
  {
   "cell_type": "code",
   "execution_count": 6,
   "metadata": {},
   "outputs": [],
   "source": [
    "%matplotlib notebook"
   ]
  },
  {
   "cell_type": "code",
   "execution_count": 3,
   "metadata": {},
   "outputs": [],
   "source": [
    "import matplotlib.pyplot as plt\n",
    "\n",
    "time = [i for i in range(1, nb_iters)]\n",
    "accuracy = [sum(correctness_dist[:i])/len(correctness_dist[:i]) for i in range(1, nb_iters)]\n",
    "plt.plot(time, accuracy)"
   ]
  },
  {
   "cell_type": "markdown",
   "metadata": {},
   "source": [
    "### Alternative Approach with Scikit-Multiflow\n",
    "In scikit-multiflow, there is a built-in way to do the exact same thing with less code. What we can do is import the EvaluatePrequential class:"
   ]
  },
  {
   "cell_type": "code",
   "execution_count": 8,
   "metadata": {},
   "outputs": [],
   "source": [
    "from skmultiflow.evaluation import EvaluatePrequential"
   ]
  },
  {
   "cell_type": "code",
   "execution_count": 9,
   "metadata": {},
   "outputs": [],
   "source": [
    "eval=EvaluatePrequential(show_plot=True,max_samples=10000,metrics=['accuracy','kappa','running_time','model_size'])"
   ]
  },
  {
   "cell_type": "code",
   "execution_count": 4,
   "metadata": {},
   "outputs": [],
   "source": [
    "eval.evaluate(stream=stream, model=tree, model_names=['TR'])"
   ]
  },
  {
   "cell_type": "code",
   "execution_count": null,
   "metadata": {},
   "outputs": [],
   "source": []
  }
 ],
 "metadata": {
  "kernelspec": {
   "display_name": "Python 3",
   "language": "python",
   "name": "python3"
  },
  "language_info": {
   "codemirror_mode": {
    "name": "ipython",
    "version": 3
   },
   "file_extension": ".py",
   "mimetype": "text/x-python",
   "name": "python",
   "nbconvert_exporter": "python",
   "pygments_lexer": "ipython3",
   "version": "3.7.6"
  }
 },
 "nbformat": 4,
 "nbformat_minor": 4
}
