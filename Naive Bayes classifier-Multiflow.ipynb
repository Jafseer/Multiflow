{
 "cells": [
  {
   "cell_type": "markdown",
   "metadata": {},
   "source": [
    "# Naive Bayes classifier-Multiflow"
   ]
  },
  {
   "cell_type": "code",
   "execution_count": 8,
   "metadata": {},
   "outputs": [
    {
     "name": "stdout",
     "output_type": "stream",
     "text": [
      "200 samples analyzed.\n",
      "Naive Bayes accuracy: 0.945\n"
     ]
    }
   ],
   "source": [
    "from skmultiflow.data import SEAGenerator\n",
    "from skmultiflow.bayes import NaiveBayes\n",
    "\n",
    "# Setup a data stream\n",
    "stream = SEAGenerator(random_state=1)\n",
    "\n",
    "# Setup Naive Bayes estimator\n",
    "naive_bayes = NaiveBayes()\n",
    "\n",
    "# Setup variables to control loop and track performance\n",
    "n_samples = 0\n",
    "correct_cnt = 0\n",
    "max_samples = 200\n",
    "\n",
    "# Train the estimator with the samples provided by the data stream\n",
    "while n_samples < max_samples and stream.has_more_samples():\n",
    "    X, y = stream.next_sample()\n",
    "    y_pred = naive_bayes.predict(X)\n",
    "    if y[0] == y_pred[0]:\n",
    "        correct_cnt += 1\n",
    "    naive_bayes.partial_fit(X, y)\n",
    "    n_samples += 1\n",
    "\n",
    "# Display results\n",
    "print('{} samples analyzed.'.format(n_samples))\n",
    "print('Naive Bayes accuracy: {}'.format(correct_cnt / n_samples))"
   ]
  },
  {
   "cell_type": "markdown",
   "metadata": {},
   "source": [
    "### Very Fast Decision Rules classifier"
   ]
  },
  {
   "cell_type": "code",
   "execution_count": 2,
   "metadata": {},
   "outputs": [
    {
     "name": "stdout",
     "output_type": "stream",
     "text": [
      "No Nominal attributes have been defined, will consider all attributes as numerical\n",
      "200 samples analyzed.\n",
      "very fast decision tree accuracy: 0.945\n"
     ]
    }
   ],
   "source": [
    "from skmultiflow.data import SEAGenerator\n",
    "from skmultiflow.rules import VeryFastDecisionRulesClassifier\n",
    "\n",
    "\n",
    "# Setup a data stream\n",
    "stream = SEAGenerator(random_state=1)\n",
    "\n",
    "# Setup very fast decision rule estimator\n",
    "VFDR = VeryFastDecisionRulesClassifier()\n",
    "\n",
    "# Setup variables to control loop and track performance\n",
    "n_samples = 0\n",
    "correct_cnt = 0\n",
    "max_samples = 200\n",
    "\n",
    "# Train the estimator with the samples provided by the data stream\n",
    "while n_samples < max_samples and stream.has_more_samples():\n",
    "    X, y = stream.next_sample()\n",
    "    y_pred = VFDR.predict(X)\n",
    "    if y[0] == y_pred[0]:\n",
    "        correct_cnt += 1\n",
    "    VFDR.partial_fit(X, y)\n",
    "    n_samples += 1\n",
    "\n",
    "# Display results\n",
    "print('{} samples analyzed.'.format(n_samples))\n",
    "print('very fast decision tree accuracy: {}'.format(correct_cnt / n_samples))"
   ]
  },
  {
   "cell_type": "code",
   "execution_count": null,
   "metadata": {},
   "outputs": [],
   "source": []
  }
 ],
 "metadata": {
  "kernelspec": {
   "display_name": "Python 3",
   "language": "python",
   "name": "python3"
  },
  "language_info": {
   "codemirror_mode": {
    "name": "ipython",
    "version": 3
   },
   "file_extension": ".py",
   "mimetype": "text/x-python",
   "name": "python",
   "nbconvert_exporter": "python",
   "pygments_lexer": "ipython3",
   "version": "3.7.6"
  }
 },
 "nbformat": 4,
 "nbformat_minor": 4
}
